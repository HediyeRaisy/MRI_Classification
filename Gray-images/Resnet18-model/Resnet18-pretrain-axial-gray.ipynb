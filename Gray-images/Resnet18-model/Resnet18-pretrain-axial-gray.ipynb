{
 "cells": [
  {
   "cell_type": "code",
   "execution_count": 1,
   "id": "e0572155",
   "metadata": {},
   "outputs": [],
   "source": [
    "import torch\n",
    "import torch.nn as nn\n",
    "import torch.optim as optim\n",
    "import torchvision.transforms as transforms\n",
    "from torch.utils.data import DataLoader, Dataset\n",
    "from sklearn.model_selection import KFold\n",
    "from sklearn.metrics import f1_score, accuracy_score\n",
    "from PIL import Image\n",
    "import pandas as pd\n",
    "import torchvision\n",
    "import numpy as np"
   ]
  },
  {
   "cell_type": "code",
   "execution_count": 2,
   "id": "9a23fe5f",
   "metadata": {},
   "outputs": [],
   "source": [
    "#make function for defining pathway of MRIs and read them with nibabel\n",
    "\n",
    "def path_data_axial(category,patient):\n",
    "    path = \"./data/images_gray/GM/\"+category+\"/axial/\"+patient+\".png\"\n",
    "    return path\n",
    "def path_data_sagital(category,patient):\n",
    "    path = \"./data/images_gray/GM/\"+category+\"/sagital/\"+patient+\".png\"\n",
    "    return path\n",
    "def path_data_coronal(category,patient):\n",
    "    path = \"./data/images_gray/GM/\"+category+\"/coronal/\"+patient+\".png\"\n",
    "    return path"
   ]
  },
  {
   "cell_type": "code",
   "execution_count": 3,
   "id": "574fb021",
   "metadata": {},
   "outputs": [
    {
     "data": {
      "text/plain": [
       "'cuda'"
      ]
     },
     "execution_count": 3,
     "metadata": {},
     "output_type": "execute_result"
    }
   ],
   "source": [
    "device = \"cuda\" if torch.cuda.is_available() else \"cpu\"\n",
    "device"
   ]
  },
  {
   "cell_type": "code",
   "execution_count": 4,
   "id": "d2c4458b",
   "metadata": {},
   "outputs": [],
   "source": [
    "# Load your data\n",
    "total_data = pd.read_csv(\"./total_data.csv\")\n",
    "total_data = total_data[(total_data[\"Research Group\"] != \"MCI\")]\n",
    "total_data = total_data.reset_index()\n",
    "PID = total_data[\"Subject ID\"]\n",
    "Labels = total_data[\"Research Group\"]"
   ]
  },
  {
   "cell_type": "code",
   "execution_count": 5,
   "id": "e6959af5",
   "metadata": {},
   "outputs": [],
   "source": [
    "# Prepare your data with labeling them in to 0 and 1\n",
    "data = []\n",
    "new_labels = []\n",
    "for label in Labels:\n",
    "    if label == \"CN\":\n",
    "        new_labels.append(0)\n",
    "    elif label == \"AD\":\n",
    "        new_labels.append(1)"
   ]
  },
  {
   "cell_type": "code",
   "execution_count": 6,
   "id": "b2d93766",
   "metadata": {},
   "outputs": [],
   "source": [
    "#reading data\n",
    "for i in range(len(PID)):\n",
    "    img_path = path_data_axial(Labels[i], PID[i])\n",
    "    data.append((img_path, new_labels[i]))\n"
   ]
  },
  {
   "cell_type": "code",
   "execution_count": 7,
   "id": "3a966c6a",
   "metadata": {},
   "outputs": [],
   "source": [
    "class ImageDataset(Dataset):\n",
    "    def __init__(self, data, transform=None):\n",
    "        self.data = data\n",
    "        self.transform = transform\n",
    "\n",
    "    def __len__(self):\n",
    "        return len(self.data)\n",
    "\n",
    "    def __getitem__(self, index):\n",
    "        img_path, label = self.data[index]\n",
    "        img = Image.open(img_path).convert(\"RGB\")\n",
    "        if self.transform is not None:\n",
    "            img = self.transform(img)\n",
    "        return img, label"
   ]
  },
  {
   "cell_type": "code",
   "execution_count": 8,
   "id": "8b69fcf7",
   "metadata": {},
   "outputs": [],
   "source": [
    "#transform data to tensor and do some normalization\n",
    "transform = transforms.Compose([\n",
    "    transforms.Resize((224, 224)),\n",
    "    transforms.ToTensor(),\n",
    "    transforms.Normalize(mean=[0.485, 0.456, 0.406], std=[0.229, 0.224, 0.225]),\n",
    "])"
   ]
  },
  {
   "cell_type": "code",
   "execution_count": 9,
   "id": "2ba76eea",
   "metadata": {},
   "outputs": [
    {
     "name": "stderr",
     "output_type": "stream",
     "text": [
      "/home/hedieh/.local/lib/python3.9/site-packages/torchvision/models/_utils.py:208: UserWarning: The parameter 'pretrained' is deprecated since 0.13 and may be removed in the future, please use 'weights' instead.\n",
      "  warnings.warn(\n",
      "/home/hedieh/.local/lib/python3.9/site-packages/torchvision/models/_utils.py:223: UserWarning: Arguments other than a weight enum or `None` for 'weights' are deprecated since 0.13 and may be removed in the future. The current behavior is equivalent to passing `weights=ResNet18_Weights.IMAGENET1K_V1`. You can also use `weights=ResNet18_Weights.DEFAULT` to get the most up-to-date weights.\n",
      "  warnings.warn(msg)\n"
     ]
    },
    {
     "name": "stdout",
     "output_type": "stream",
     "text": [
      "Fold 1\n",
      "Training F1 Score: 0.31372082018959796, Training Accuracy: 0.47902542372881357\n",
      "Testing F1 Score: 0.4417598269022719, Testing Accuracy: 0.5932203389830508\n"
     ]
    },
    {
     "name": "stderr",
     "output_type": "stream",
     "text": [
      "/home/hedieh/.local/lib/python3.9/site-packages/torchvision/models/_utils.py:208: UserWarning: The parameter 'pretrained' is deprecated since 0.13 and may be removed in the future, please use 'weights' instead.\n",
      "  warnings.warn(\n",
      "/home/hedieh/.local/lib/python3.9/site-packages/torchvision/models/_utils.py:223: UserWarning: Arguments other than a weight enum or `None` for 'weights' are deprecated since 0.13 and may be removed in the future. The current behavior is equivalent to passing `weights=ResNet18_Weights.IMAGENET1K_V1`. You can also use `weights=ResNet18_Weights.DEFAULT` to get the most up-to-date weights.\n",
      "  warnings.warn(msg)\n"
     ]
    },
    {
     "name": "stdout",
     "output_type": "stream",
     "text": [
      "Fold 2\n",
      "Training F1 Score: 0.4165060806496902, Training Accuracy: 0.5714830508474578\n",
      "Testing F1 Score: 0.0795668549905838, Testing Accuracy: 0.22033898305084745\n"
     ]
    },
    {
     "name": "stderr",
     "output_type": "stream",
     "text": [
      "/home/hedieh/.local/lib/python3.9/site-packages/torchvision/models/_utils.py:208: UserWarning: The parameter 'pretrained' is deprecated since 0.13 and may be removed in the future, please use 'weights' instead.\n",
      "  warnings.warn(\n",
      "/home/hedieh/.local/lib/python3.9/site-packages/torchvision/models/_utils.py:223: UserWarning: Arguments other than a weight enum or `None` for 'weights' are deprecated since 0.13 and may be removed in the future. The current behavior is equivalent to passing `weights=ResNet18_Weights.IMAGENET1K_V1`. You can also use `weights=ResNet18_Weights.DEFAULT` to get the most up-to-date weights.\n",
      "  warnings.warn(msg)\n"
     ]
    },
    {
     "name": "stdout",
     "output_type": "stream",
     "text": [
      "Fold 3\n",
      "Training F1 Score: 0.7153153661318011, Training Accuracy: 0.7470762711864406\n",
      "Testing F1 Score: 0.6198830409356725, Testing Accuracy: 0.4491525423728814\n"
     ]
    },
    {
     "name": "stderr",
     "output_type": "stream",
     "text": [
      "/home/hedieh/.local/lib/python3.9/site-packages/torchvision/models/_utils.py:208: UserWarning: The parameter 'pretrained' is deprecated since 0.13 and may be removed in the future, please use 'weights' instead.\n",
      "  warnings.warn(\n",
      "/home/hedieh/.local/lib/python3.9/site-packages/torchvision/models/_utils.py:223: UserWarning: Arguments other than a weight enum or `None` for 'weights' are deprecated since 0.13 and may be removed in the future. The current behavior is equivalent to passing `weights=ResNet18_Weights.IMAGENET1K_V1`. You can also use `weights=ResNet18_Weights.DEFAULT` to get the most up-to-date weights.\n",
      "  warnings.warn(msg)\n"
     ]
    },
    {
     "name": "stdout",
     "output_type": "stream",
     "text": [
      "Fold 4\n",
      "Training F1 Score: 0.2869287629543466, Training Accuracy: 0.4542372881355932\n",
      "Testing F1 Score: 0.5698305084745764, Testing Accuracy: 0.6949152542372882\n"
     ]
    },
    {
     "name": "stderr",
     "output_type": "stream",
     "text": [
      "/home/hedieh/.local/lib/python3.9/site-packages/torchvision/models/_utils.py:208: UserWarning: The parameter 'pretrained' is deprecated since 0.13 and may be removed in the future, please use 'weights' instead.\n",
      "  warnings.warn(\n",
      "/home/hedieh/.local/lib/python3.9/site-packages/torchvision/models/_utils.py:223: UserWarning: Arguments other than a weight enum or `None` for 'weights' are deprecated since 0.13 and may be removed in the future. The current behavior is equivalent to passing `weights=ResNet18_Weights.IMAGENET1K_V1`. You can also use `weights=ResNet18_Weights.DEFAULT` to get the most up-to-date weights.\n",
      "  warnings.warn(msg)\n"
     ]
    },
    {
     "name": "stdout",
     "output_type": "stream",
     "text": [
      "Fold 5\n",
      "Training F1 Score: 0.23285385143631981, Training Accuracy: 0.3917372881355932\n",
      "Testing F1 Score: 1.0, Testing Accuracy: 1.0\n",
      "Average Training F1 Score: 0.39306497627235115, Average Training Accuracy: 0.5287118644067796\n",
      "Average Testing F1 Score: 0.5422080462606209, Average Testing Accuracy: 0.5915254237288136\n"
     ]
    }
   ],
   "source": [
    "# using k-fold with k= 5\n",
    "\n",
    "kf = KFold(n_splits=5)\n",
    "fold_results = []\n",
    "\n",
    "for fold, (train_ids, test_ids) in enumerate(kf.split(data)):\n",
    "    #using subsampler for choosing more randome data\n",
    "    train_subsampler = torch.utils.data.SubsetRandomSampler(train_ids)\n",
    "    test_subsampler = torch.utils.data.SubsetRandomSampler(test_ids)\n",
    "    \n",
    "    dataset = ImageDataset(data, transform=transform)\n",
    "    \n",
    "    train_loader = DataLoader(dataset, batch_size=32, sampler=train_subsampler)\n",
    "    test_loader = DataLoader(dataset, batch_size=32, sampler=test_subsampler)\n",
    "\n",
    "    # Load a pretrained ResNet-18 model\n",
    "    model = torchvision.models.resnet18(pretrained=True)\n",
    "    #freezing layers of the model\n",
    "    for param in model.parameters():\n",
    "        param.requires_grad = False\n",
    "    #defining new layers\n",
    "    model.fc = nn.Sequential(nn.Linear(model.fc.in_features, 512),\n",
    "    #                                 nn.SELU(),\n",
    "    #                                 nn.Dropout(p=0.2),\n",
    "    #                                 nn.Linear(512, 512),\n",
    "    #                                 nn.SELU(),\n",
    "    #                                 nn.Dropout(p=0.2),\n",
    "    #                                 nn.Linear(512, 3),\n",
    "                                      nn.Linear(512, 128),\n",
    "                                      nn.ReLU(inplace=True),\n",
    "                                      nn.Dropout(p=0.2),\n",
    "                                      nn.Linear(128,2),\n",
    "                                      nn.ReLU(inplace=True),\n",
    "                                      nn.Dropout(p=0.1),\n",
    "                                      nn.Softmax(dim=1))\n",
    "\n",
    "    model = model.to(device)\n",
    "\n",
    "    criterion = nn.CrossEntropyLoss()\n",
    "    optimizer = optim.Adam(model.parameters(), lr=0.001)\n",
    "\n",
    "    train_f1_scores, train_accuracies = [], []\n",
    "    test_f1_scores, test_accuracies = [], []\n",
    "\n",
    "    # Training Loop for this fold\n",
    "    for epoch in range(50):  # Number of epochs\n",
    "        model.train()\n",
    "        train_targets, train_predictions = [], []\n",
    "        for images, labels in train_loader:\n",
    "            images, labels = images.to(device), labels.to(device)\n",
    "            optimizer.zero_grad()\n",
    "            outputs = model(images)\n",
    "            _, predicted = torch.max(outputs.data, 1)\n",
    "            train_targets.extend(labels.cpu().numpy())\n",
    "            train_predictions.extend(predicted.cpu().numpy())\n",
    "            loss = criterion(outputs, labels)\n",
    "            loss.backward()\n",
    "            optimizer.step()\n",
    "\n",
    "        train_f1 = f1_score(train_targets, train_predictions, average='weighted')\n",
    "        train_acc = accuracy_score(train_targets, train_predictions)\n",
    "        train_f1_scores.append(train_f1)\n",
    "        train_accuracies.append(train_acc)\n",
    "\n",
    "    model.eval()\n",
    "    test_targets, test_predictions = [], []\n",
    "    with torch.no_grad():\n",
    "        for images, labels in test_loader:\n",
    "            images, labels = images.to(device), labels.to(device)\n",
    "            outputs = model(images)\n",
    "            _, predicted = torch.max(outputs.data, 1)\n",
    "            test_targets.extend(labels.cpu().numpy())\n",
    "            test_predictions.extend(predicted.cpu().numpy())\n",
    "\n",
    "    test_f1 = f1_score(test_targets, test_predictions, average='weighted')\n",
    "    test_acc = accuracy_score(test_targets, test_predictions)\n",
    "    test_f1_scores.append(test_f1)\n",
    "    test_accuracies.append(test_acc)\n",
    "\n",
    "    print(f\"Fold {fold + 1}\")\n",
    "    print(f\"Training F1 Score: {np.mean(train_f1_scores)}, Training Accuracy: {np.mean(train_accuracies)}\")\n",
    "    print(f\"Testing F1 Score: {test_f1}, Testing Accuracy: {test_acc}\")\n",
    "\n",
    "    fold_results.append({\n",
    "        'fold': fold + 1,\n",
    "        'train_f1': np.mean(train_f1_scores),\n",
    "        'train_accuracy': np.mean(train_accuracies),\n",
    "        'test_f1': test_f1,\n",
    "        'test_accuracy': test_acc\n",
    "    })\n",
    "\n",
    "avg_train_f1 = np.mean([result['train_f1'] for result in fold_results])\n",
    "avg_train_accuracy = np.mean([result['train_accuracy'] for result in fold_results])\n",
    "avg_test_f1 = np.mean([result['test_f1'] for result in fold_results])\n",
    "avg_test_accuracy = np.mean([result['test_accuracy'] for result in fold_results])\n",
    "\n",
    "print(f\"Average Training F1 Score: {avg_train_f1}, Average Training Accuracy: {avg_train_accuracy}\")\n",
    "print(f\"Average Testing F1 Score: {avg_test_f1}, Average Testing Accuracy: {avg_test_accuracy}\")\n"
   ]
  },
  {
   "cell_type": "code",
   "execution_count": null,
   "id": "d9fcdc82",
   "metadata": {},
   "outputs": [],
   "source": []
  }
 ],
 "metadata": {
  "kernelspec": {
   "display_name": "Python 3 (ipykernel)",
   "language": "python",
   "name": "python3"
  },
  "language_info": {
   "codemirror_mode": {
    "name": "ipython",
    "version": 3
   },
   "file_extension": ".py",
   "mimetype": "text/x-python",
   "name": "python",
   "nbconvert_exporter": "python",
   "pygments_lexer": "ipython3",
   "version": "3.9.2"
  }
 },
 "nbformat": 4,
 "nbformat_minor": 5
}
